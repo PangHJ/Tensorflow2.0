{
 "cells": [
  {
   "cell_type": "code",
   "execution_count": 1,
   "metadata": {},
   "outputs": [
    {
     "name": "stderr",
     "output_type": "stream",
     "text": [
      "Using TensorFlow backend.\n"
     ]
    }
   ],
   "source": [
    "import keras\n",
    "from keras import layers"
   ]
  },
  {
   "cell_type": "code",
   "execution_count": 2,
   "metadata": {},
   "outputs": [
    {
     "name": "stdout",
     "output_type": "stream",
     "text": [
      "Tensorflow Version:2.0.0\n"
     ]
    }
   ],
   "source": [
    "import tensorflow as tf\n",
    "print('Tensorflow Version:{}'.format(tf.__version__))\n",
    "import matplotlib.pyplot as plt\n",
    "%matplotlib inline \n",
    "import numpy as np"
   ]
  },
  {
   "cell_type": "code",
   "execution_count": 3,
   "metadata": {},
   "outputs": [],
   "source": [
    "from __future__ import absolute_import, division, print_function, unicode_literals\n",
    "import os\n",
    "import os.path as osp"
   ]
  },
  {
   "cell_type": "code",
   "execution_count": 4,
   "metadata": {},
   "outputs": [
    {
     "data": {
      "text/plain": [
       "True"
      ]
     },
     "execution_count": 4,
     "metadata": {},
     "output_type": "execute_result"
    }
   ],
   "source": [
    "tf.test.is_gpu_available()"
   ]
  },
  {
   "cell_type": "code",
   "execution_count": 5,
   "metadata": {},
   "outputs": [],
   "source": [
    "physical_devices = tf.config.experimental.list_physical_devices('GPU')"
   ]
  },
  {
   "cell_type": "code",
   "execution_count": 6,
   "metadata": {},
   "outputs": [],
   "source": [
    "fashion_mnist = keras.datasets.fashion_mnist\n",
    "(train_images, train_labels), (test_images, test_labels) = fashion_mnist.load_data()"
   ]
  },
  {
   "cell_type": "code",
   "execution_count": 7,
   "metadata": {},
   "outputs": [
    {
     "data": {
      "text/plain": [
       "(60000, 28, 28)"
      ]
     },
     "execution_count": 7,
     "metadata": {},
     "output_type": "execute_result"
    }
   ],
   "source": [
    "train_images.shape"
   ]
  },
  {
   "cell_type": "code",
   "execution_count": 8,
   "metadata": {},
   "outputs": [
    {
     "data": {
      "text/plain": [
       "(60000,)"
      ]
     },
     "execution_count": 8,
     "metadata": {},
     "output_type": "execute_result"
    }
   ],
   "source": [
    "train_labels.shape"
   ]
  },
  {
   "cell_type": "code",
   "execution_count": 9,
   "metadata": {},
   "outputs": [
    {
     "data": {
      "text/plain": [
       "(10000, 28, 28)"
      ]
     },
     "execution_count": 9,
     "metadata": {},
     "output_type": "execute_result"
    }
   ],
   "source": [
    "test_images.shape"
   ]
  },
  {
   "cell_type": "code",
   "execution_count": 10,
   "metadata": {},
   "outputs": [
    {
     "data": {
      "text/plain": [
       "array([9, 2, 1, ..., 8, 1, 5], dtype=uint8)"
      ]
     },
     "execution_count": 10,
     "metadata": {},
     "output_type": "execute_result"
    }
   ],
   "source": [
    "test_labels"
   ]
  },
  {
   "cell_type": "code",
   "execution_count": 11,
   "metadata": {},
   "outputs": [],
   "source": [
    "train_images = np.expand_dims(train_images, -1)"
   ]
  },
  {
   "cell_type": "code",
   "execution_count": 12,
   "metadata": {},
   "outputs": [
    {
     "data": {
      "text/plain": [
       "(60000, 28, 28, 1)"
      ]
     },
     "execution_count": 12,
     "metadata": {},
     "output_type": "execute_result"
    }
   ],
   "source": [
    "train_images.shape"
   ]
  },
  {
   "cell_type": "code",
   "execution_count": 13,
   "metadata": {},
   "outputs": [
    {
     "data": {
      "text/plain": [
       "(10000, 28, 28, 1)"
      ]
     },
     "execution_count": 13,
     "metadata": {},
     "output_type": "execute_result"
    }
   ],
   "source": [
    "test_images = np.expand_dims(test_images, -1)\n",
    "test_images.shape"
   ]
  },
  {
   "cell_type": "code",
   "execution_count": 14,
   "metadata": {},
   "outputs": [],
   "source": [
    "model = tf.keras.Sequential()   #顺序模型\n",
    "model.add(tf.keras.layers.Conv2D(64,(3,3), input_shape = (28, 28, 1), activation = 'relu', padding='same'))\n",
    "model.add(tf.keras.layers.Conv2D(64,(3,3), activation = 'relu', padding='same'))\n",
    "model.add(tf.keras.layers.MaxPooling2D())\n",
    "model.add(tf.keras.layers.Dropout(0.5))\n",
    "model.add(tf.keras.layers.Conv2D(128,(3,3), activation = 'relu', padding='same'))\n",
    "model.add(tf.keras.layers.Conv2D(128,(3,3), activation = 'relu', padding='same'))\n",
    "model.add(tf.keras.layers.MaxPooling2D())\n",
    "model.add(tf.keras.layers.Dropout(0.5))\n",
    "model.add(tf.keras.layers.Conv2D(256,(3,3), activation = 'relu', padding='same'))\n",
    "model.add(tf.keras.layers.Conv2D(256,(3,3), activation = 'relu', padding='same'))\n",
    "model.add(tf.keras.layers.MaxPooling2D())\n",
    "model.add(tf.keras.layers.Dropout(0.5))\n",
    "model.add(tf.keras.layers.Conv2D(512,(3,3), activation = 'relu', padding='same'))\n",
    "model.add(tf.keras.layers.Conv2D(512,(3,3), activation = 'relu', padding='same'))\n",
    "model.add(tf.keras.layers.Dropout(0.5))\n",
    "model.add(tf.keras.layers.GlobalAveragePooling2D())\n",
    "model.add(tf.keras.layers.Dense(256, activation='relu'))\n",
    "model.add(tf.keras.layers.Dense(10, activation = 'softmax'))"
   ]
  },
  {
   "cell_type": "code",
   "execution_count": 15,
   "metadata": {},
   "outputs": [
    {
     "name": "stdout",
     "output_type": "stream",
     "text": [
      "Model: \"sequential\"\n",
      "_________________________________________________________________\n",
      "Layer (type)                 Output Shape              Param #   \n",
      "=================================================================\n",
      "conv2d (Conv2D)              (None, 28, 28, 64)        640       \n",
      "_________________________________________________________________\n",
      "conv2d_1 (Conv2D)            (None, 28, 28, 64)        36928     \n",
      "_________________________________________________________________\n",
      "max_pooling2d (MaxPooling2D) (None, 14, 14, 64)        0         \n",
      "_________________________________________________________________\n",
      "dropout (Dropout)            (None, 14, 14, 64)        0         \n",
      "_________________________________________________________________\n",
      "conv2d_2 (Conv2D)            (None, 14, 14, 128)       73856     \n",
      "_________________________________________________________________\n",
      "conv2d_3 (Conv2D)            (None, 14, 14, 128)       147584    \n",
      "_________________________________________________________________\n",
      "max_pooling2d_1 (MaxPooling2 (None, 7, 7, 128)         0         \n",
      "_________________________________________________________________\n",
      "dropout_1 (Dropout)          (None, 7, 7, 128)         0         \n",
      "_________________________________________________________________\n",
      "conv2d_4 (Conv2D)            (None, 7, 7, 256)         295168    \n",
      "_________________________________________________________________\n",
      "conv2d_5 (Conv2D)            (None, 7, 7, 256)         590080    \n",
      "_________________________________________________________________\n",
      "max_pooling2d_2 (MaxPooling2 (None, 3, 3, 256)         0         \n",
      "_________________________________________________________________\n",
      "dropout_2 (Dropout)          (None, 3, 3, 256)         0         \n",
      "_________________________________________________________________\n",
      "conv2d_6 (Conv2D)            (None, 3, 3, 512)         1180160   \n",
      "_________________________________________________________________\n",
      "conv2d_7 (Conv2D)            (None, 3, 3, 512)         2359808   \n",
      "_________________________________________________________________\n",
      "dropout_3 (Dropout)          (None, 3, 3, 512)         0         \n",
      "_________________________________________________________________\n",
      "global_average_pooling2d (Gl (None, 512)               0         \n",
      "_________________________________________________________________\n",
      "dense (Dense)                (None, 256)               131328    \n",
      "_________________________________________________________________\n",
      "dense_1 (Dense)              (None, 10)                2570      \n",
      "=================================================================\n",
      "Total params: 4,818,122\n",
      "Trainable params: 4,818,122\n",
      "Non-trainable params: 0\n",
      "_________________________________________________________________\n"
     ]
    }
   ],
   "source": [
    "model.summary()"
   ]
  },
  {
   "cell_type": "code",
   "execution_count": 16,
   "metadata": {},
   "outputs": [],
   "source": [
    "model.compile(optimizer=\"adam\",\n",
    "             loss='sparse_categorical_crossentropy',\n",
    "             metrics=['acc']\n",
    "             )"
   ]
  },
  {
   "cell_type": "code",
   "execution_count": 17,
   "metadata": {},
   "outputs": [
    {
     "name": "stdout",
     "output_type": "stream",
     "text": [
      "Train on 60000 samples, validate on 10000 samples\n",
      "Epoch 1/30\n",
      "60000/60000 [==============================] - 99s 2ms/sample - loss: 0.8883 - acc: 0.6604 - val_loss: 0.4632 - val_acc: 0.8256\n",
      "Epoch 2/30\n",
      "60000/60000 [==============================] - 95s 2ms/sample - loss: 0.4802 - acc: 0.8233 - val_loss: 0.4130 - val_acc: 0.8442\n",
      "Epoch 3/30\n",
      "60000/60000 [==============================] - 96s 2ms/sample - loss: 0.4275 - acc: 0.8424 - val_loss: 0.3869 - val_acc: 0.8544\n",
      "Epoch 4/30\n",
      "60000/60000 [==============================] - 95s 2ms/sample - loss: 0.3974 - acc: 0.8536 - val_loss: 0.3456 - val_acc: 0.8741\n",
      "Epoch 5/30\n",
      "60000/60000 [==============================] - 96s 2ms/sample - loss: 0.3874 - acc: 0.8595 - val_loss: 0.3572 - val_acc: 0.8670\n",
      "Epoch 6/30\n",
      "60000/60000 [==============================] - 93s 2ms/sample - loss: 0.3712 - acc: 0.8650 - val_loss: 0.3469 - val_acc: 0.8730\n",
      "Epoch 7/30\n",
      "60000/60000 [==============================] - 93s 2ms/sample - loss: 0.3605 - acc: 0.8702 - val_loss: 0.3448 - val_acc: 0.8642\n",
      "Epoch 8/30\n",
      "60000/60000 [==============================] - 100s 2ms/sample - loss: 0.3568 - acc: 0.8701 - val_loss: 0.3368 - val_acc: 0.8695\n",
      "Epoch 9/30\n",
      "60000/60000 [==============================] - 101s 2ms/sample - loss: 0.3517 - acc: 0.8734 - val_loss: 0.3123 - val_acc: 0.8833\n",
      "Epoch 10/30\n",
      "60000/60000 [==============================] - 97s 2ms/sample - loss: 0.3531 - acc: 0.8708 - val_loss: 0.3165 - val_acc: 0.8847\n",
      "Epoch 11/30\n",
      "60000/60000 [==============================] - 96s 2ms/sample - loss: 0.3458 - acc: 0.8751 - val_loss: 0.3072 - val_acc: 0.8860\n",
      "Epoch 12/30\n",
      "60000/60000 [==============================] - 95s 2ms/sample - loss: 0.3433 - acc: 0.8766 - val_loss: 0.3081 - val_acc: 0.8815\n",
      "Epoch 13/30\n",
      "60000/60000 [==============================] - 95s 2ms/sample - loss: 0.3479 - acc: 0.8738 - val_loss: 0.3041 - val_acc: 0.8927\n",
      "Epoch 14/30\n",
      "60000/60000 [==============================] - 96s 2ms/sample - loss: 0.3442 - acc: 0.8768 - val_loss: 0.3129 - val_acc: 0.8883\n",
      "Epoch 15/30\n",
      "60000/60000 [==============================] - 96s 2ms/sample - loss: 0.3350 - acc: 0.8787 - val_loss: 0.3075 - val_acc: 0.8852\n",
      "Epoch 16/30\n",
      "60000/60000 [==============================] - 96s 2ms/sample - loss: 0.3331 - acc: 0.8803 - val_loss: 0.3061 - val_acc: 0.8903\n",
      "Epoch 17/30\n",
      "60000/60000 [==============================] - 94s 2ms/sample - loss: 0.3567 - acc: 0.8745 - val_loss: 0.2928 - val_acc: 0.8924\n",
      "Epoch 18/30\n",
      "60000/60000 [==============================] - 97s 2ms/sample - loss: 0.3650 - acc: 0.8734 - val_loss: 0.3104 - val_acc: 0.8903\n",
      "Epoch 19/30\n",
      "60000/60000 [==============================] - 97s 2ms/sample - loss: 0.3266 - acc: 0.8839 - val_loss: 0.3076 - val_acc: 0.8905\n",
      "Epoch 20/30\n",
      "60000/60000 [==============================] - 97s 2ms/sample - loss: 0.3226 - acc: 0.8855 - val_loss: 0.3079 - val_acc: 0.8895\n",
      "Epoch 21/30\n",
      "60000/60000 [==============================] - 97s 2ms/sample - loss: 0.3346 - acc: 0.8821 - val_loss: 0.3509 - val_acc: 0.8771\n",
      "Epoch 22/30\n",
      "60000/60000 [==============================] - 93s 2ms/sample - loss: 0.3258 - acc: 0.8847 - val_loss: 0.2982 - val_acc: 0.8954\n",
      "Epoch 23/30\n",
      "60000/60000 [==============================] - 93s 2ms/sample - loss: 0.3420 - acc: 0.8804 - val_loss: 0.4007 - val_acc: 0.8480\n",
      "Epoch 24/30\n",
      "60000/60000 [==============================] - 93s 2ms/sample - loss: 0.3650 - acc: 0.8736 - val_loss: 0.2979 - val_acc: 0.8905\n",
      "Epoch 25/30\n",
      "60000/60000 [==============================] - 93s 2ms/sample - loss: 0.3369 - acc: 0.8808 - val_loss: 0.2767 - val_acc: 0.8949\n",
      "Epoch 26/30\n",
      "60000/60000 [==============================] - 93s 2ms/sample - loss: 0.3908 - acc: 0.8687 - val_loss: 0.3392 - val_acc: 0.8702\n",
      "Epoch 27/30\n",
      "60000/60000 [==============================] - 93s 2ms/sample - loss: 0.3650 - acc: 0.8748 - val_loss: 0.2845 - val_acc: 0.8956\n",
      "Epoch 28/30\n",
      "60000/60000 [==============================] - 93s 2ms/sample - loss: 0.3252 - acc: 0.8860 - val_loss: 0.2920 - val_acc: 0.8986\n",
      "Epoch 29/30\n",
      "60000/60000 [==============================] - 93s 2ms/sample - loss: 0.3584 - acc: 0.8765 - val_loss: 0.3171 - val_acc: 0.8880\n",
      "Epoch 30/30\n",
      "60000/60000 [==============================] - 93s 2ms/sample - loss: 0.3368 - acc: 0.8809 - val_loss: 0.3141 - val_acc: 0.8856\n"
     ]
    }
   ],
   "source": [
    "history = model.fit(train_images, train_labels, epochs=30, validation_data=(test_images, test_labels))"
   ]
  },
  {
   "cell_type": "code",
   "execution_count": 19,
   "metadata": {},
   "outputs": [
    {
     "data": {
      "text/plain": [
       "dict_keys(['loss', 'acc', 'val_loss', 'val_acc'])"
      ]
     },
     "execution_count": 19,
     "metadata": {},
     "output_type": "execute_result"
    }
   ],
   "source": [
    "history.history.keys()"
   ]
  },
  {
   "cell_type": "code",
   "execution_count": 20,
   "metadata": {},
   "outputs": [
    {
     "data": {
      "text/plain": [
       "[<matplotlib.lines.Line2D at 0x21a0fb8eb88>]"
      ]
     },
     "execution_count": 20,
     "metadata": {},
     "output_type": "execute_result"
    },
    {
     "data": {
      "image/png": "[encoded data removed]",
      "text/plain": [
       "<Figure size 432x288 with 1 Axes>"
      ]
     },
     "metadata": {
      "needs_background": "light"
     },
     "output_type": "display_data"
    }
   ],
   "source": [
    "plt.plot(history.epoch, history.history.get('acc'), label='acc')\n",
    "plt.plot(history.epoch, history.history.get('val_acc'), label='val_acc')"
   ]
  },
  {
   "cell_type": "code",
   "execution_count": 21,
   "metadata": {},
   "outputs": [
    {
     "data": {
      "text/plain": [
       "[<matplotlib.lines.Line2D at 0x21a12ea98c8>]"
      ]
     },
     "execution_count": 21,
     "metadata": {},
     "output_type": "execute_result"
    },
    {
     "data": {
      "image/png": "[encoded data removed]",
      "text/plain": [
       "<Figure size 432x288 with 1 Axes>"
      ]
     },
     "metadata": {
      "needs_background": "light"
     },
     "output_type": "display_data"
    }
   ],
   "source": [
    "plt.plot(history.epoch, history.history.get('loss'), label='loss')\n",
    "plt.plot(history.epoch, history.history.get('val_loss'), label='val_loss')"
   ]
  },
  {
   "cell_type": "code",
   "execution_count": null,
   "metadata": {},
   "outputs": [],
   "source": []
  },
  {
   "cell_type": "code",
   "execution_count": null,
   "metadata": {},
   "outputs": [],
   "source": []
  }
 ],
 "metadata": {
  "kernelspec": {
   "display_name": "Python 3",
   "language": "python",
   "name": "python3"
  },
  "language_info": {
   "codemirror_mode": {
    "name": "ipython",
    "version": 3
   },
   "file_extension": ".py",
   "mimetype": "text/x-python",
   "name": "python",
   "nbconvert_exporter": "python",
   "pygments_lexer": "ipython3",
   "version": "3.7.4"
  }
 },
 "nbformat": 4,
 "nbformat_minor": 2
}
